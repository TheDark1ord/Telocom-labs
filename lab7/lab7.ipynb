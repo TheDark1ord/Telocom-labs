{
 "cells": [
  {
   "cell_type": "markdown",
   "metadata": {},
   "source": [
    "# Лабораторная работа 7. Дискретное преобразование Фурье"
   ]
  },
  {
   "cell_type": "code",
   "execution_count": 1,
   "metadata": {},
   "outputs": [],
   "source": [
    "import numpy as np\n",
    "import sys\n",
    "sys.path.append('../')"
   ]
  },
  {
   "cell_type": "markdown",
   "metadata": {},
   "source": [
    "## Упражнение 4.2\n",
    "Создадим БПФ по следующему алгоритму:\n",
    "1. Дан массив сигнала *y*. Разделим его на четные элементы *e* и нечетные элементы *o*.\n",
    "2. Вычислим DFT *e* и *o*, делая рекурсивные вызовы.\n",
    "3. Вычислим DFT(*y*) для каждого значения *n*б используя лемму Дэниелсона-Ланцоша"
   ]
  },
  {
   "cell_type": "code",
   "execution_count": 2,
   "metadata": {},
   "outputs": [
    {
     "data": {
      "text/plain": [
       "array([17.32050808+0.j        , -8.66025404-8.66025404j,\n",
       "        0.        +0.j        , -8.66025404+8.66025404j])"
      ]
     },
     "execution_count": 2,
     "metadata": {},
     "output_type": "execute_result"
    }
   ],
   "source": [
    "xs = np.linspace(0.0, np.pi, num=4)\n",
    "ys = np.array(10 * np.sin(xs))\n",
    "hs = np.fft.fft(ys)\n",
    "hs"
   ]
  },
  {
   "cell_type": "markdown",
   "metadata": {},
   "source": [
    "Создадим функцию для вычисления ДПФ"
   ]
  },
  {
   "cell_type": "code",
   "execution_count": 3,
   "metadata": {},
   "outputs": [
    {
     "data": {
      "text/plain": [
       "array([ 1.73205081e+01+0.00000000e+00j, -8.66025404e+00-8.66025404e+00j,\n",
       "        5.51710040e-16+1.06057524e-15j, -8.66025404e+00+8.66025404e+00j])"
      ]
     },
     "execution_count": 3,
     "metadata": {},
     "output_type": "execute_result"
    }
   ],
   "source": [
    "def dft(ys):\n",
    "    N = len(ys)\n",
    "    ts = np.arange(N) / N\n",
    "    freqs = np.arange(N)\n",
    "    args = np.outer(ts, freqs)\n",
    "    M = np.exp(1j * 2 * np.pi * args)\n",
    "    amps = M.conj().transpose().dot(ys)\n",
    "    return amps\n",
    "hs2 = dft(ys)\n",
    "hs2"
   ]
  },
  {
   "cell_type": "markdown",
   "metadata": {},
   "source": [
    "Можно видеть, что результаты шага 1 и шага 2 совпадают\n",
    "\n",
    "Создадим итерационный алгоритм, который разбивает функцию на 2 части и вычисляет БПФ для каждой из них"
   ]
  },
  {
   "cell_type": "code",
   "execution_count": 4,
   "metadata": {},
   "outputs": [
    {
     "data": {
      "text/plain": [
       "2.8369320781251574e-15"
      ]
     },
     "execution_count": 4,
     "metadata": {},
     "output_type": "execute_result"
    }
   ],
   "source": [
    "def fft_norec(ys):\n",
    "    N = len(ys)\n",
    "    He = np.fft.fft(ys[::2])\n",
    "    Ho = np.fft.fft(ys[1::2])\n",
    "    ns = np.arange(N)\n",
    "    W = np.exp(-1j * 2 * np.pi * ns / N)\n",
    "    return np.tile(He, 2) + W * np.tile(Ho, 2)\n",
    "\n",
    "hs3 = fft_norec(ys)\n",
    "np.sum(np.abs(hs - hs3))"
   ]
  },
  {
   "cell_type": "markdown",
   "metadata": {},
   "source": [
    "Далее преобразуем данный алгоритм в рекурсивный "
   ]
  },
  {
   "cell_type": "code",
   "execution_count": 5,
   "metadata": {},
   "outputs": [
    {
     "data": {
      "text/plain": [
       "5.349080012019197e-15"
      ]
     },
     "execution_count": 5,
     "metadata": {},
     "output_type": "execute_result"
    }
   ],
   "source": [
    "def fft(ys):\n",
    "    N = len(ys)\n",
    "    if N == 1:\n",
    "        return ys\n",
    "    He = fft(ys[::2])\n",
    "    Ho = fft(ys[1::2])\n",
    "    ns = np.arange(N)\n",
    "    W = np.exp(-1j * 2 * np.pi * ns / N)\n",
    "    return np.tile(He, 2) + W * np.tile(Ho, 2)\n",
    "\n",
    "hs4 = fft(ys)\n",
    "np.sum(np.abs(hs - hs4))"
   ]
  },
  {
   "cell_type": "markdown",
   "metadata": {},
   "source": [
    "Результаты совпадают (есть ошибка округления). Время работы данного алгоритма пропорционально NlogN."
   ]
  }
 ],
 "metadata": {
  "kernelspec": {
   "display_name": "Python 3",
   "language": "python",
   "name": "python3"
  },
  "language_info": {
   "codemirror_mode": {
    "name": "ipython",
    "version": 3
   },
   "file_extension": ".py",
   "mimetype": "text/x-python",
   "name": "python",
   "nbconvert_exporter": "python",
   "pygments_lexer": "ipython3",
   "version": "3.10.12"
  }
 },
 "nbformat": 4,
 "nbformat_minor": 2
}
